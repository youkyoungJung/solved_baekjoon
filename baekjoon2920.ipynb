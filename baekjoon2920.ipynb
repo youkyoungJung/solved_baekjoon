{
 "cells": [
  {
   "cell_type": "code",
   "execution_count": 18,
   "id": "15e2e3eb",
   "metadata": {},
   "outputs": [
    {
     "name": "stdout",
     "output_type": "stream",
     "text": [
      "descending\n"
     ]
    }
   ],
   "source": [
    "a = [1, 2, 3, 4, 5]\n",
    "# a.sort()\n",
    "# print(a)\n",
    "a.sort(reverse=True)#내림차순정렬\n",
    "# print(a)\n",
    "print('descending' if a != a.sort(reverse=True) else 'mixed')"
   ]
  },
  {
   "cell_type": "code",
   "execution_count": null,
   "id": "0522d224",
   "metadata": {},
   "outputs": [],
   "source": []
  }
 ],
 "metadata": {
  "kernelspec": {
   "display_name": "Python 3",
   "language": "python",
   "name": "python3"
  },
  "language_info": {
   "codemirror_mode": {
    "name": "ipython",
    "version": 3
   },
   "file_extension": ".py",
   "mimetype": "text/x-python",
   "name": "python",
   "nbconvert_exporter": "python",
   "pygments_lexer": "ipython3",
   "version": "3.6.13"
  }
 },
 "nbformat": 4,
 "nbformat_minor": 5
}
