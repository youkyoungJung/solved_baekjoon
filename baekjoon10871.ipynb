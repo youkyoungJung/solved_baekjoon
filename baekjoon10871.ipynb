{
 "cells": [
  {
   "cell_type": "code",
   "execution_count": 13,
   "id": "5832697d",
   "metadata": {},
   "outputs": [
    {
     "name": "stdout",
     "output_type": "stream",
     "text": [
      "10 5\n",
      "1 10 4 9 2 3 8 5 7 6\n",
      "1\n",
      "4\n",
      "2\n",
      "3\n"
     ]
    }
   ],
   "source": [
    "a, b = map(int, input().split())\n",
    "s = list(map(int, input().split()))\n",
    "\n",
    "for i in range(a):\n",
    "    if s[i] < b :\n",
    "        print(s[i])"
   ]
  },
  {
   "cell_type": "code",
   "execution_count": 20,
   "id": "e161db42",
   "metadata": {},
   "outputs": [
    {
     "name": "stdout",
     "output_type": "stream",
     "text": [
      "10 5\n",
      "1 10 4 9 2 3 8 5 7 6\n",
      "1 4 2 3\n"
     ]
    }
   ],
   "source": [
    "a, b = map(int, input().split())\n",
    "s = list(map(int, input().split()))\n",
    "\n",
    "print(' '.join(map(str,[i for i in s if i < b])))"
   ]
  },
  {
   "cell_type": "code",
   "execution_count": 4,
   "id": "212f1401",
   "metadata": {},
   "outputs": [
    {
     "name": "stdout",
     "output_type": "stream",
     "text": [
      "0 1 2 3 4\n"
     ]
    }
   ],
   "source": [
    "print(' '.join(map(str, [i for i in range(10) if i <5]))) #출력 : [0, 1, 2, 3, 4]"
   ]
  },
  {
   "cell_type": "code",
   "execution_count": 15,
   "id": "8ada4d4c",
   "metadata": {},
   "outputs": [
    {
     "name": "stdout",
     "output_type": "stream",
     "text": [
      "10 5\n",
      "1 10 4 9 2 3 8 5 7 6\n",
      "1 4 2 3\n"
     ]
    }
   ],
   "source": [
    "a,b = map(int,input().split())\n",
    "score = [x for x in input().split() if int(x)<b]\n",
    "print(' '.join(score))"
   ]
  },
  {
   "cell_type": "code",
   "execution_count": null,
   "id": "ecb5b31b",
   "metadata": {},
   "outputs": [],
   "source": []
  }
 ],
 "metadata": {
  "kernelspec": {
   "display_name": "Python 3",
   "language": "python",
   "name": "python3"
  },
  "language_info": {
   "codemirror_mode": {
    "name": "ipython",
    "version": 3
   },
   "file_extension": ".py",
   "mimetype": "text/x-python",
   "name": "python",
   "nbconvert_exporter": "python",
   "pygments_lexer": "ipython3",
   "version": "3.6.13"
  }
 },
 "nbformat": 4,
 "nbformat_minor": 5
}
