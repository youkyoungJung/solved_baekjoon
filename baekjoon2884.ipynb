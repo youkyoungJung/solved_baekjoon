{
 "cells": [
  {
   "cell_type": "code",
   "execution_count": 10,
   "id": "54c94aab",
   "metadata": {},
   "outputs": [
    {
     "name": "stdout",
     "output_type": "stream",
     "text": [
      "23 40\n",
      "23 55\n"
     ]
    }
   ],
   "source": [
    "h, m = map(int, input().split())\n",
    "time = h*60 + m - 45\n",
    "\n",
    "print(time//60, time%60)"
   ]
  },
  {
   "cell_type": "code",
   "execution_count": 13,
   "id": "338dcb6e",
   "metadata": {},
   "outputs": [
    {
     "name": "stdout",
     "output_type": "stream",
     "text": [
      "23 40\n",
      "22 55\n"
     ]
    }
   ],
   "source": [
    "h, m = map(int, input().split())\n",
    "m -=45\n",
    "if m <0 :\n",
    "    h = h-1\n",
    "print(h%24, m%60)"
   ]
  },
  {
   "cell_type": "code",
   "execution_count": null,
   "id": "714b0077",
   "metadata": {},
   "outputs": [],
   "source": []
  }
 ],
 "metadata": {
  "kernelspec": {
   "display_name": "Python 3",
   "language": "python",
   "name": "python3"
  },
  "language_info": {
   "codemirror_mode": {
    "name": "ipython",
    "version": 3
   },
   "file_extension": ".py",
   "mimetype": "text/x-python",
   "name": "python",
   "nbconvert_exporter": "python",
   "pygments_lexer": "ipython3",
   "version": "3.6.13"
  }
 },
 "nbformat": 4,
 "nbformat_minor": 5
}
