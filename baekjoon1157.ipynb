{
 "cells": [
  {
   "cell_type": "code",
   "execution_count": 6,
   "metadata": {},
   "outputs": [
    {
     "name": "stdout",
     "output_type": "stream",
     "text": [
      "Mississipi\n",
      "?\n"
     ]
    }
   ],
   "source": [
    "s = input().upper()\n",
    "arr = [0]*26 #알파벳 개수에 따른 배열\n",
    "m_num = 0 #젤큰수의 개수\n",
    "m_al = -1 #젤큰수의 알파벳\n",
    "\n",
    "for i in s:\n",
    "    o = ord(i)-65\n",
    "    arr[o] += 1\n",
    "    if m_num < arr[o]:\n",
    "        m_num = arr[o]\n",
    "        m_al = i\n",
    "\n",
    "if arr.count(m_num) != 1: #맥스 값이 1개가 있는 것이 아니면 ?표출력\n",
    "    print(\"?\")\n",
    "else:\n",
    "    print(m_al)\n",
    "    "
   ]
  },
  {
   "cell_type": "code",
   "execution_count": null,
   "metadata": {},
   "outputs": [],
   "source": []
  }
 ],
 "metadata": {
  "kernelspec": {
   "display_name": "Python 3",
   "language": "python",
   "name": "python3"
  },
  "language_info": {
   "codemirror_mode": {
    "name": "ipython",
    "version": 3
   },
   "file_extension": ".py",
   "mimetype": "text/x-python",
   "name": "python",
   "nbconvert_exporter": "python",
   "pygments_lexer": "ipython3",
   "version": "3.6.5"
  }
 },
 "nbformat": 4,
 "nbformat_minor": 2
}
