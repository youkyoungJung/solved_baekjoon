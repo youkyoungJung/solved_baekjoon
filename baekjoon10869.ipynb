{
 "cells": [
  {
   "cell_type": "code",
   "execution_count": 4,
   "id": "c1ec19b2",
   "metadata": {},
   "outputs": [
    {
     "name": "stdout",
     "output_type": "stream",
     "text": [
      "7 3\n",
      "10\n",
      "4\n",
      "21\n",
      "2\n",
      "1\n"
     ]
    }
   ],
   "source": [
    "a = list(map(int, input().split()))\n",
    "print(a[0]+a[1])\n",
    "print(a[0]-a[1])\n",
    "print(a[0]*a[1])\n",
    "print(int(a[0]/a[1]))\n",
    "print(a[0]%a[1])"
   ]
  },
  {
   "cell_type": "code",
   "execution_count": 5,
   "id": "a186aee2",
   "metadata": {},
   "outputs": [
    {
     "name": "stdout",
     "output_type": "stream",
     "text": [
      "7 3\n",
      "10\n",
      "4\n",
      "21\n",
      "2\n",
      "1\n"
     ]
    }
   ],
   "source": [
    "a = list(map(int, input().split()))\n",
    "print(a[0]+a[1])\n",
    "print(a[0]-a[1])\n",
    "print(a[0]*a[1])\n",
    "print(a[0]//a[1])\n",
    "print(a[0]%a[1])"
   ]
  },
  {
   "cell_type": "code",
   "execution_count": null,
   "id": "4d354b40",
   "metadata": {},
   "outputs": [],
   "source": []
  }
 ],
 "metadata": {
  "kernelspec": {
   "display_name": "Python 3",
   "language": "python",
   "name": "python3"
  },
  "language_info": {
   "codemirror_mode": {
    "name": "ipython",
    "version": 3
   },
   "file_extension": ".py",
   "mimetype": "text/x-python",
   "name": "python",
   "nbconvert_exporter": "python",
   "pygments_lexer": "ipython3",
   "version": "3.6.13"
  }
 },
 "nbformat": 4,
 "nbformat_minor": 5
}
