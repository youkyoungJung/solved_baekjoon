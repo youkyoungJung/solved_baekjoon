{
 "cells": [
  {
   "cell_type": "code",
   "execution_count": 6,
   "id": "aa741120",
   "metadata": {},
   "outputs": [
    {
     "name": "stdout",
     "output_type": "stream",
     "text": [
      "5 5\n",
      "==\n"
     ]
    }
   ],
   "source": [
    "A, B = map(int, input().split())\n",
    "\n",
    "if A > B :\n",
    "    print(\">\")\n",
    "elif A < B :\n",
    "    print(\"<\")\n",
    "else :\n",
    "    print(\"==\")"
   ]
  },
  {
   "cell_type": "code",
   "execution_count": 7,
   "id": "296146d6",
   "metadata": {},
   "outputs": [
    {
     "name": "stdout",
     "output_type": "stream",
     "text": [
      "5 5\n",
      "==\n"
     ]
    }
   ],
   "source": [
    "a,b = map(int, input().split())\n",
    "print('>' if a>b else ('<' if a<b else '=='))"
   ]
  },
  {
   "cell_type": "code",
   "execution_count": null,
   "id": "ce8abb65",
   "metadata": {},
   "outputs": [],
   "source": []
  }
 ],
 "metadata": {
  "kernelspec": {
   "display_name": "Python 3",
   "language": "python",
   "name": "python3"
  },
  "language_info": {
   "codemirror_mode": {
    "name": "ipython",
    "version": 3
   },
   "file_extension": ".py",
   "mimetype": "text/x-python",
   "name": "python",
   "nbconvert_exporter": "python",
   "pygments_lexer": "ipython3",
   "version": "3.6.13"
  }
 },
 "nbformat": 4,
 "nbformat_minor": 5
}
