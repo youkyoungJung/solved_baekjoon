{
 "cells": [
  {
   "cell_type": "code",
   "execution_count": 12,
   "id": "6f76e37c",
   "metadata": {},
   "outputs": [
    {
     "name": "stdout",
     "output_type": "stream",
     "text": [
      "1\n",
      "6\n",
      "zero:  [1, 0, 1, 1]\n",
      "one:  [0, 1, 1, 2]\n",
      "zero:  [1, 0, 1, 1, 2]\n",
      "one:  [0, 1, 1, 2, 3]\n",
      "zero:  [1, 0, 1, 1, 2, 3]\n",
      "one:  [0, 1, 1, 2, 3, 5]\n",
      "zero:  [1, 0, 1, 1, 2, 3, 5]\n",
      "one:  [0, 1, 1, 2, 3, 5, 8]\n",
      "5 8\n"
     ]
    }
   ],
   "source": [
    "import math\n",
    "\n",
    "T = int(input())\n",
    "\n",
    "def f(num):\n",
    "    zero = [1,0,1]\n",
    "    one = [0,1,1]\n",
    "    if k >= 3:\n",
    "        for i in range(3, k+1):\n",
    "            zero.append(zero[i-1]+zero[i-2])\n",
    "            print(\"zero: \", zero)\n",
    "            one.append(one[i-1]+one[i-2])\n",
    "            print(\"one: \",one)\n",
    "\n",
    "    print(zero[k], one[k])\n",
    "    \n",
    "    \n",
    "for i in range(T):\n",
    "    k = int(input())\n",
    "    f(k)\n",
    "    "
   ]
  },
  {
   "cell_type": "code",
   "execution_count": null,
   "id": "c4dae2b8",
   "metadata": {},
   "outputs": [],
   "source": []
  }
 ],
 "metadata": {
  "kernelspec": {
   "display_name": "Python 3",
   "language": "python",
   "name": "python3"
  },
  "language_info": {
   "codemirror_mode": {
    "name": "ipython",
    "version": 3
   },
   "file_extension": ".py",
   "mimetype": "text/x-python",
   "name": "python",
   "nbconvert_exporter": "python",
   "pygments_lexer": "ipython3",
   "version": "3.6.13"
  }
 },
 "nbformat": 4,
 "nbformat_minor": 5
}
