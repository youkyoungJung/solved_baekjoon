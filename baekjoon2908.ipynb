{
 "cells": [
  {
   "cell_type": "code",
   "execution_count": 7,
   "id": "a6a9c807",
   "metadata": {},
   "outputs": [
    {
     "name": "stdout",
     "output_type": "stream",
     "text": [
      "734 893\n",
      "437\n"
     ]
    }
   ],
   "source": [
    "a,b = map(int,input().split())\n",
    "l = []\n",
    "while(a):\n",
    "    d = a % 10\n",
    "    a = a // 10\n",
    "    l.append(d)\n",
    "answer_a = l[0]*100 + l[1]*10+l[2]*1\n",
    "\n",
    "s = []\n",
    "while(b):\n",
    "    d_a = b % 10\n",
    "    b = b // 10\n",
    "    s.append(d_a)\n",
    "answer_b = s[0]*100 + s[1]*10+s[2]*1\n",
    "\n",
    "print(answer_a if answer_a>answer_b else(answer_b if answer_a<answer_b else '=='))"
   ]
  },
  {
   "cell_type": "code",
   "execution_count": 11,
   "id": "17a89516",
   "metadata": {},
   "outputs": [
    {
     "name": "stdout",
     "output_type": "stream",
     "text": [
      "[6, 5, 4, 3, 2, 1, 0]\n",
      "[2, 3, 4]\n",
      "[0, 1, 2]\n",
      "[4, 5, 6]\n",
      "[0, 2, 4, 6]\n",
      "dcba\n"
     ]
    }
   ],
   "source": [
    "# 슬라이싱\n",
    "print([0,1,2,3,4,5,6][::-1])\n",
    "print([0,1,2,3,4,5,6][2:5])\n",
    "print([0,1,2,3,4,5,6][:3])\n",
    "print([0,1,2,3,4,5,6][4:])\n",
    "print([0,1,2,3,4,5,6][::2])\n",
    "print('abcd'[::-1])"
   ]
  },
  {
   "cell_type": "code",
   "execution_count": 16,
   "id": "2d51ba46",
   "metadata": {},
   "outputs": [
    {
     "name": "stdout",
     "output_type": "stream",
     "text": [
      "734 893\n",
      "437\n"
     ]
    }
   ],
   "source": [
    "a,b = input().split()\n",
    "a = a[::-1]\n",
    "b = b[::-1]\n",
    "#print(a,b)\n",
    "print(a if a>b else b)"
   ]
  },
  {
   "cell_type": "code",
   "execution_count": null,
   "id": "78e852b3",
   "metadata": {},
   "outputs": [],
   "source": []
  }
 ],
 "metadata": {
  "kernelspec": {
   "display_name": "Python 3",
   "language": "python",
   "name": "python3"
  },
  "language_info": {
   "codemirror_mode": {
    "name": "ipython",
    "version": 3
   },
   "file_extension": ".py",
   "mimetype": "text/x-python",
   "name": "python",
   "nbconvert_exporter": "python",
   "pygments_lexer": "ipython3",
   "version": "3.6.13"
  }
 },
 "nbformat": 4,
 "nbformat_minor": 5
}
