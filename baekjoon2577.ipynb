{
 "cells": [
  {
   "cell_type": "code",
   "execution_count": 2,
   "id": "040db7cf",
   "metadata": {},
   "outputs": [
    {
     "name": "stdout",
     "output_type": "stream",
     "text": [
      "150 266 427\n",
      "['1', '7', '0', '3', '7', '3', '0', '0']\n",
      "0\n",
      "0\n",
      "0\n",
      "0\n",
      "1\n"
     ]
    }
   ],
   "source": [
    "a,b,c = map(int, input().split())\n",
    "answer = a*b*c\n",
    "\n",
    "s=[]\n",
    "answer = str(answer)\n",
    "\n",
    "for i in answer:\n",
    "    s.append(i)\n",
    "\n",
    "print(s)\n",
    "\n",
    "if s == '1':\n",
    "    count1 += 1\n",
    "elif s == '2':\n",
    "    count2 += 1\n",
    "elif s == '3':\n",
    "    count3 += 1\n",
    "elif s == '4':\n",
    "    count4 += 1\n",
    "else :\n",
    "    count5 += 1\n",
    "\n",
    "print(count1)\n",
    "print(count2)\n",
    "print(count3)\n",
    "print(count4)\n",
    "print(count5)"
   ]
  },
  {
   "cell_type": "code",
   "execution_count": 4,
   "id": "591944c0",
   "metadata": {},
   "outputs": [
    {
     "name": "stdout",
     "output_type": "stream",
     "text": [
      "150 266 427\n",
      "3\n",
      "1\n",
      "0\n",
      "2\n",
      "0\n",
      "0\n",
      "0\n",
      "2\n",
      "0\n",
      "0\n"
     ]
    }
   ],
   "source": [
    "a,b,c = map(int, input().split())\n",
    "\n",
    "l = [0]*10 #배열 초기화\n",
    "answer = a*b*c\n",
    "\n",
    "while(answer):\n",
    "    d = answer % 10\n",
    "    answer = answer // 10\n",
    "    l[d] += 1\n",
    "\n",
    "for i in l:\n",
    "    print(i)\n",
    "    "
   ]
  },
  {
   "cell_type": "code",
   "execution_count": 5,
   "id": "13aa9008",
   "metadata": {},
   "outputs": [
    {
     "name": "stdout",
     "output_type": "stream",
     "text": [
      "150\n",
      "266\n",
      "427\n",
      "3\n",
      "1\n",
      "0\n",
      "2\n",
      "0\n",
      "0\n",
      "0\n",
      "2\n",
      "0\n",
      "0\n"
     ]
    }
   ],
   "source": [
    "a = [int(input()) for _ in range(3)] #리스트컴프리핸션\n",
    "\n",
    "l = [0]*10 #배열 초기화\n",
    "answer = a[0]*a[1]*a[2]\n",
    "\n",
    "while(answer):\n",
    "    d = answer % 10\n",
    "    answer = answer // 10\n",
    "    l[d] += 1\n",
    "\n",
    "for i in l:\n",
    "    print(i)\n",
    "    "
   ]
  },
  {
   "cell_type": "code",
   "execution_count": null,
   "id": "9f53be26",
   "metadata": {},
   "outputs": [],
   "source": []
  }
 ],
 "metadata": {
  "kernelspec": {
   "display_name": "Python 3",
   "language": "python",
   "name": "python3"
  },
  "language_info": {
   "codemirror_mode": {
    "name": "ipython",
    "version": 3
   },
   "file_extension": ".py",
   "mimetype": "text/x-python",
   "name": "python",
   "nbconvert_exporter": "python",
   "pygments_lexer": "ipython3",
   "version": "3.6.13"
  }
 },
 "nbformat": 4,
 "nbformat_minor": 5
}
