{
 "cells": [
  {
   "cell_type": "code",
   "execution_count": 9,
   "metadata": {},
   "outputs": [
    {
     "name": "stdout",
     "output_type": "stream",
     "text": [
      "5\n",
      "ooxxoxxooo\n",
      "ooxxooxxoo\n",
      "oxoxoxoxoxoxox\n",
      "oooooooooo\n",
      "ooooxooooxoooox\n",
      "10\n",
      "9\n",
      "7\n",
      "55\n",
      "30\n"
     ]
    }
   ],
   "source": [
    "num = int(input())\n",
    "a = [input() for _ in range(num)]\n",
    "for i in a :\n",
    "    result = 0\n",
    "    r = 1\n",
    "    for t in i :\n",
    "        if t == 'o' :\n",
    "            result += r\n",
    "            r += 1\n",
    "        else :\n",
    "            r = 1\n",
    "    print(result)       "
   ]
  },
  {
   "cell_type": "code",
   "execution_count": 8,
   "metadata": {},
   "outputs": [
    {
     "name": "stdout",
     "output_type": "stream",
     "text": [
      "2\n",
      "ooccoccooo\n",
      "10\n",
      "ooxxooxxoo\n",
      "9\n"
     ]
    }
   ],
   "source": [
    "t = int(input())\n",
    "for _ in range(t):\n",
    "    a = input()\n",
    "    result = 0\n",
    "    r = 1\n",
    "    for x in a:\n",
    "        if x == 'o':\n",
    "            result += r\n",
    "            r += 1\n",
    "        else :\n",
    "            r = 1\n",
    "    print(result)       "
   ]
  },
  {
   "cell_type": "code",
   "execution_count": null,
   "metadata": {},
   "outputs": [],
   "source": []
  }
 ],
 "metadata": {
  "kernelspec": {
   "display_name": "Python 3",
   "language": "python",
   "name": "python3"
  },
  "language_info": {
   "codemirror_mode": {
    "name": "ipython",
    "version": 3
   },
   "file_extension": ".py",
   "mimetype": "text/x-python",
   "name": "python",
   "nbconvert_exporter": "python",
   "pygments_lexer": "ipython3",
   "version": "3.6.5"
  }
 },
 "nbformat": 4,
 "nbformat_minor": 2
}
