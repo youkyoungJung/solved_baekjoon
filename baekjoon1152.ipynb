{
 "cells": [
  {
   "cell_type": "code",
   "execution_count": 7,
   "id": "9284d576",
   "metadata": {},
   "outputs": [
    {
     "name": "stdout",
     "output_type": "stream",
     "text": [
      "The first character is a blank\n",
      "6\n"
     ]
    }
   ],
   "source": [
    "txt = input().split()\n",
    "print(len(txt))"
   ]
  },
  {
   "cell_type": "code",
   "execution_count": 9,
   "id": "1bf53982",
   "metadata": {},
   "outputs": [
    {
     "name": "stdout",
     "output_type": "stream",
     "text": [
      "The first character is a blank\n",
      "6\n"
     ]
    }
   ],
   "source": [
    "txt2 = input()\n",
    "print(len(txt2.split()))"
   ]
  }
 ],
 "metadata": {
  "kernelspec": {
   "display_name": "Python 3",
   "language": "python",
   "name": "python3"
  },
  "language_info": {
   "codemirror_mode": {
    "name": "ipython",
    "version": 3
   },
   "file_extension": ".py",
   "mimetype": "text/x-python",
   "name": "python",
   "nbconvert_exporter": "python",
   "pygments_lexer": "ipython3",
   "version": "3.6.13"
  }
 },
 "nbformat": 4,
 "nbformat_minor": 5
}
